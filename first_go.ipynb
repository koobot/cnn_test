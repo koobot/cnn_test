{
 "cells": [
  {
   "cell_type": "markdown",
   "metadata": {},
   "source": [
    "First attempt at working end to end - from Hands-On Machine Learning, but using different dataset."
   ]
  },
  {
   "cell_type": "code",
   "execution_count": 60,
   "metadata": {},
   "outputs": [],
   "source": [
    "# Libraries\n",
    "import os\n",
    "from six.moves import urllib\n",
    "import pandas as pd\n",
    "import numpy as np\n",
    "import matplotlib.pyplot as plt"
   ]
  },
  {
   "cell_type": "markdown",
   "metadata": {},
   "source": [
    "# Import data"
   ]
  },
  {
   "cell_type": "code",
   "execution_count": 30,
   "metadata": {},
   "outputs": [],
   "source": [
    "dataset_dir = \"data/first_go\"\n",
    "\n",
    "def fetch_data(data_url, data_dir, data_filename):\n",
    "    if not os.path.isdir(data_dir):\n",
    "        os.makedirs(data_dir)\n",
    "    full_dir = os.path.join(dataset_dir, data_filename)\n",
    "    urllib.request.urlretrieve(data_url, full_dir)"
   ]
  },
  {
   "cell_type": "code",
   "execution_count": 31,
   "metadata": {},
   "outputs": [],
   "source": [
    "# 2016 Census mesh block counts\n",
    "meshblock_url = \"https://www.abs.gov.au/AUSSTATS/subscriber.nsf/log?openagent&2016%20census%20mesh%20block%20counts.csv&2074.0&Data%20Cubes&1DED88080198D6C6CA2581520083D113&0&2016&04.07.2017&Latest\"\n",
    "meshblock_filename = \"meshblock_counts.csv\"\n",
    "\n",
    "fetch_data(meshblock_url, dataset_dir, meshblock_filename)"
   ]
  },
  {
   "cell_type": "code",
   "execution_count": 43,
   "metadata": {},
   "outputs": [],
   "source": [
    "# Load data\n",
    "def load_data(data_dir, data_filename):\n",
    "    csv_path = os.path.join(data_dir, data_filename)\n",
    "    return pd.read_csv(csv_path, encoding='cp1252', low_memory=False)"
   ]
  },
  {
   "cell_type": "code",
   "execution_count": 79,
   "metadata": {},
   "outputs": [
    {
     "data": {
      "text/html": [
       "<div>\n",
       "<style scoped>\n",
       "    .dataframe tbody tr th:only-of-type {\n",
       "        vertical-align: middle;\n",
       "    }\n",
       "\n",
       "    .dataframe tbody tr th {\n",
       "        vertical-align: top;\n",
       "    }\n",
       "\n",
       "    .dataframe thead th {\n",
       "        text-align: right;\n",
       "    }\n",
       "</style>\n",
       "<table border=\"1\" class=\"dataframe\">\n",
       "  <thead>\n",
       "    <tr style=\"text-align: right;\">\n",
       "      <th></th>\n",
       "      <th>MB_CODE_2016</th>\n",
       "      <th>MB_CATEGORY_NAME_2016</th>\n",
       "      <th>AREA_ALBERS_SQKM</th>\n",
       "      <th>Dwelling</th>\n",
       "      <th>Person</th>\n",
       "      <th>State</th>\n",
       "    </tr>\n",
       "  </thead>\n",
       "  <tbody>\n",
       "    <tr>\n",
       "      <th>0</th>\n",
       "      <td>10000009499</td>\n",
       "      <td>NOUSUALRESIDENCE</td>\n",
       "      <td>0.0000</td>\n",
       "      <td>NaN</td>\n",
       "      <td>12288.0</td>\n",
       "      <td>1.0</td>\n",
       "    </tr>\n",
       "    <tr>\n",
       "      <th>1</th>\n",
       "      <td>10000010000</td>\n",
       "      <td>Residential</td>\n",
       "      <td>0.0209</td>\n",
       "      <td>42.0</td>\n",
       "      <td>69.0</td>\n",
       "      <td>1.0</td>\n",
       "    </tr>\n",
       "    <tr>\n",
       "      <th>2</th>\n",
       "      <td>10000021000</td>\n",
       "      <td>Commercial</td>\n",
       "      <td>0.0829</td>\n",
       "      <td>0.0</td>\n",
       "      <td>0.0</td>\n",
       "      <td>1.0</td>\n",
       "    </tr>\n",
       "    <tr>\n",
       "      <th>3</th>\n",
       "      <td>10000022000</td>\n",
       "      <td>Commercial</td>\n",
       "      <td>0.0388</td>\n",
       "      <td>3.0</td>\n",
       "      <td>5.0</td>\n",
       "      <td>1.0</td>\n",
       "    </tr>\n",
       "    <tr>\n",
       "      <th>4</th>\n",
       "      <td>10000023000</td>\n",
       "      <td>Commercial</td>\n",
       "      <td>0.0254</td>\n",
       "      <td>4.0</td>\n",
       "      <td>11.0</td>\n",
       "      <td>1.0</td>\n",
       "    </tr>\n",
       "  </tbody>\n",
       "</table>\n",
       "</div>"
      ],
      "text/plain": [
       "  MB_CODE_2016 MB_CATEGORY_NAME_2016  AREA_ALBERS_SQKM  Dwelling   Person  \\\n",
       "0  10000009499      NOUSUALRESIDENCE            0.0000       NaN  12288.0   \n",
       "1  10000010000           Residential            0.0209      42.0     69.0   \n",
       "2  10000021000            Commercial            0.0829       0.0      0.0   \n",
       "3  10000022000            Commercial            0.0388       3.0      5.0   \n",
       "4  10000023000            Commercial            0.0254       4.0     11.0   \n",
       "\n",
       "   State  \n",
       "0    1.0  \n",
       "1    1.0  \n",
       "2    1.0  \n",
       "3    1.0  \n",
       "4    1.0  "
      ]
     },
     "execution_count": 79,
     "metadata": {},
     "output_type": "execute_result"
    }
   ],
   "source": [
    "df = load_data(dataset_dir, meshblock_filename)\n",
    "# Drop last row because it's the copyright row\n",
    "df = df[:-1]\n",
    "df.head()"
   ]
  },
  {
   "cell_type": "markdown",
   "metadata": {},
   "source": [
    "# Looking at data structure"
   ]
  },
  {
   "cell_type": "code",
   "execution_count": 48,
   "metadata": {},
   "outputs": [
    {
     "name": "stdout",
     "output_type": "stream",
     "text": [
      "<class 'pandas.core.frame.DataFrame'>\n",
      "RangeIndex: 358127 entries, 0 to 358126\n",
      "Data columns (total 6 columns):\n",
      " #   Column                 Non-Null Count   Dtype  \n",
      "---  ------                 --------------   -----  \n",
      " 0   MB_CODE_2016           358124 non-null  object \n",
      " 1   MB_CATEGORY_NAME_2016  358122 non-null  object \n",
      " 2   AREA_ALBERS_SQKM       358122 non-null  float64\n",
      " 3   Dwelling               358113 non-null  float64\n",
      " 4   Person                 358122 non-null  float64\n",
      " 5   State                  358122 non-null  float64\n",
      "dtypes: float64(4), object(2)\n",
      "memory usage: 16.4+ MB\n"
     ]
    }
   ],
   "source": [
    "df.info()"
   ]
  },
  {
   "cell_type": "code",
   "execution_count": 54,
   "metadata": {},
   "outputs": [
    {
     "name": "stdout",
     "output_type": "stream",
     "text": [
      "<class 'pandas.core.frame.DataFrame'>\n",
      "RangeIndex: 358127 entries, 0 to 358126\n",
      "Data columns (total 6 columns):\n",
      " #   Column                 Non-Null Count   Dtype   \n",
      "---  ------                 --------------   -----   \n",
      " 0   MB_CODE_2016           358124 non-null  object  \n",
      " 1   MB_CATEGORY_NAME_2016  358122 non-null  object  \n",
      " 2   AREA_ALBERS_SQKM       358122 non-null  float64 \n",
      " 3   Dwelling               358113 non-null  float64 \n",
      " 4   Person                 358122 non-null  float64 \n",
      " 5   State                  358122 non-null  category\n",
      "dtypes: category(1), float64(3), object(2)\n",
      "memory usage: 14.0+ MB\n"
     ]
    }
   ],
   "source": [
    "# Fix up types\n",
    "df[\"State\"] = df[\"State\"].astype('category')\n",
    "df.info()"
   ]
  },
  {
   "cell_type": "code",
   "execution_count": 55,
   "metadata": {},
   "outputs": [
    {
     "data": {
      "text/plain": [
       "1.0    109880\n",
       "2.0     85014\n",
       "3.0     69764\n",
       "5.0     42449\n",
       "4.0     28205\n",
       "6.0     12981\n",
       "8.0      6393\n",
       "7.0      3299\n",
       "9.0       137\n",
       "Name: State, dtype: int64"
      ]
     },
     "execution_count": 55,
     "metadata": {},
     "output_type": "execute_result"
    }
   ],
   "source": [
    "# See descriptives\n",
    "df[\"State\"].value_counts()"
   ]
  },
  {
   "cell_type": "code",
   "execution_count": 56,
   "metadata": {},
   "outputs": [
    {
     "data": {
      "text/html": [
       "<div>\n",
       "<style scoped>\n",
       "    .dataframe tbody tr th:only-of-type {\n",
       "        vertical-align: middle;\n",
       "    }\n",
       "\n",
       "    .dataframe tbody tr th {\n",
       "        vertical-align: top;\n",
       "    }\n",
       "\n",
       "    .dataframe thead th {\n",
       "        text-align: right;\n",
       "    }\n",
       "</style>\n",
       "<table border=\"1\" class=\"dataframe\">\n",
       "  <thead>\n",
       "    <tr style=\"text-align: right;\">\n",
       "      <th></th>\n",
       "      <th>AREA_ALBERS_SQKM</th>\n",
       "      <th>Dwelling</th>\n",
       "      <th>Person</th>\n",
       "    </tr>\n",
       "  </thead>\n",
       "  <tbody>\n",
       "    <tr>\n",
       "      <th>count</th>\n",
       "      <td>358122.000000</td>\n",
       "      <td>358113.000000</td>\n",
       "      <td>358122.000000</td>\n",
       "    </tr>\n",
       "    <tr>\n",
       "      <th>mean</th>\n",
       "      <td>21.467896</td>\n",
       "      <td>27.682427</td>\n",
       "      <td>65.335252</td>\n",
       "    </tr>\n",
       "    <tr>\n",
       "      <th>std</th>\n",
       "      <td>681.434385</td>\n",
       "      <td>26.446532</td>\n",
       "      <td>71.714688</td>\n",
       "    </tr>\n",
       "    <tr>\n",
       "      <th>min</th>\n",
       "      <td>0.000000</td>\n",
       "      <td>0.000000</td>\n",
       "      <td>0.000000</td>\n",
       "    </tr>\n",
       "    <tr>\n",
       "      <th>25%</th>\n",
       "      <td>0.021700</td>\n",
       "      <td>0.000000</td>\n",
       "      <td>3.000000</td>\n",
       "    </tr>\n",
       "    <tr>\n",
       "      <th>50%</th>\n",
       "      <td>0.037900</td>\n",
       "      <td>30.000000</td>\n",
       "      <td>65.000000</td>\n",
       "    </tr>\n",
       "    <tr>\n",
       "      <th>75%</th>\n",
       "      <td>0.086500</td>\n",
       "      <td>42.000000</td>\n",
       "      <td>102.000000</td>\n",
       "    </tr>\n",
       "    <tr>\n",
       "      <th>max</th>\n",
       "      <td>165570.518000</td>\n",
       "      <td>1923.000000</td>\n",
       "      <td>12510.000000</td>\n",
       "    </tr>\n",
       "  </tbody>\n",
       "</table>\n",
       "</div>"
      ],
      "text/plain": [
       "       AREA_ALBERS_SQKM       Dwelling         Person\n",
       "count     358122.000000  358113.000000  358122.000000\n",
       "mean          21.467896      27.682427      65.335252\n",
       "std          681.434385      26.446532      71.714688\n",
       "min            0.000000       0.000000       0.000000\n",
       "25%            0.021700       0.000000       3.000000\n",
       "50%            0.037900      30.000000      65.000000\n",
       "75%            0.086500      42.000000     102.000000\n",
       "max       165570.518000    1923.000000   12510.000000"
      ]
     },
     "execution_count": 56,
     "metadata": {},
     "output_type": "execute_result"
    }
   ],
   "source": [
    "df.describe()"
   ]
  },
  {
   "cell_type": "code",
   "execution_count": 67,
   "metadata": {},
   "outputs": [
    {
     "data": {
      "image/png": "[encoded data removed]",
      "text/plain": [
       "<Figure size 1440x1080 with 4 Axes>"
      ]
     },
     "metadata": {
      "needs_background": "light"
     },
     "output_type": "display_data"
    }
   ],
   "source": [
    "# plotting distribtuion\n",
    "df.hist(bins=300, figsize=(20, 15))\n",
    "plt.show() # Optional in jupyter as it'll auto display plots when cell is executed"
   ]
  },
  {
   "cell_type": "markdown",
   "metadata": {},
   "source": [
    "# Create test set"
   ]
  },
  {
   "cell_type": "markdown",
   "metadata": {},
   "source": [
    "Want to avoid data snooping bias, so create test set first.\n",
    "\n",
    "Next time use scikit learn.... it'll be faster."
   ]
  },
  {
   "cell_type": "code",
   "execution_count": 119,
   "metadata": {},
   "outputs": [],
   "source": [
    "def split_test_train(data, test_ratio):\n",
    "    shuffled_indicies = np.random.permutation(len(data))\n",
    "    test_set_size = int(len(data) * test_ratio)\n",
    "    test_indicies = shuffled_indicies[:test_set_size] # Start till test_set_size\n",
    "    train_indicies = shuffled_indicies[test_set_size:] # From test_set_size till end\n",
    "    return data.iloc[test_indicies], data.iloc[train_indicies]\n",
    "\n",
    "# iloc is property - the indexing starts at 0. Seems you can't use it for columns alone\n",
    "# e.g. df.iloc[, 1] doesn't work.    "
   ]
  },
  {
   "cell_type": "code",
   "execution_count": 125,
   "metadata": {},
   "outputs": [
    {
     "data": {
      "text/html": [
       "<div>\n",
       "<style scoped>\n",
       "    .dataframe tbody tr th:only-of-type {\n",
       "        vertical-align: middle;\n",
       "    }\n",
       "\n",
       "    .dataframe tbody tr th {\n",
       "        vertical-align: top;\n",
       "    }\n",
       "\n",
       "    .dataframe thead th {\n",
       "        text-align: right;\n",
       "    }\n",
       "</style>\n",
       "<table border=\"1\" class=\"dataframe\">\n",
       "  <thead>\n",
       "    <tr style=\"text-align: right;\">\n",
       "      <th></th>\n",
       "      <th>MB_CODE_2016</th>\n",
       "      <th>MB_CATEGORY_NAME_2016</th>\n",
       "      <th>AREA_ALBERS_SQKM</th>\n",
       "      <th>Dwelling</th>\n",
       "      <th>Person</th>\n",
       "      <th>State</th>\n",
       "    </tr>\n",
       "  </thead>\n",
       "  <tbody>\n",
       "    <tr>\n",
       "      <th>169388</th>\n",
       "      <td>20575802000</td>\n",
       "      <td>Industrial</td>\n",
       "      <td>0.1397</td>\n",
       "      <td>0.0</td>\n",
       "      <td>3.0</td>\n",
       "      <td>2.0</td>\n",
       "    </tr>\n",
       "    <tr>\n",
       "      <th>59682</th>\n",
       "      <td>10635821000</td>\n",
       "      <td>Other</td>\n",
       "      <td>5.5613</td>\n",
       "      <td>0.0</td>\n",
       "      <td>0.0</td>\n",
       "      <td>1.0</td>\n",
       "    </tr>\n",
       "    <tr>\n",
       "      <th>144968</th>\n",
       "      <td>20341850000</td>\n",
       "      <td>Residential</td>\n",
       "      <td>0.0290</td>\n",
       "      <td>37.0</td>\n",
       "      <td>54.0</td>\n",
       "      <td>2.0</td>\n",
       "    </tr>\n",
       "    <tr>\n",
       "      <th>269661</th>\n",
       "      <td>40049590000</td>\n",
       "      <td>Primary Production</td>\n",
       "      <td>448.7433</td>\n",
       "      <td>29.0</td>\n",
       "      <td>58.0</td>\n",
       "      <td>4.0</td>\n",
       "    </tr>\n",
       "    <tr>\n",
       "      <th>338063</th>\n",
       "      <td>60030830000</td>\n",
       "      <td>Parkland</td>\n",
       "      <td>0.0063</td>\n",
       "      <td>0.0</td>\n",
       "      <td>0.0</td>\n",
       "      <td>6.0</td>\n",
       "    </tr>\n",
       "  </tbody>\n",
       "</table>\n",
       "</div>"
      ],
      "text/plain": [
       "       MB_CODE_2016 MB_CATEGORY_NAME_2016  AREA_ALBERS_SQKM  Dwelling  Person  \\\n",
       "169388  20575802000            Industrial            0.1397       0.0     3.0   \n",
       "59682   10635821000                 Other            5.5613       0.0     0.0   \n",
       "144968  20341850000           Residential            0.0290      37.0    54.0   \n",
       "269661  40049590000    Primary Production          448.7433      29.0    58.0   \n",
       "338063  60030830000              Parkland            0.0063       0.0     0.0   \n",
       "\n",
       "        State  \n",
       "169388    2.0  \n",
       "59682     1.0  \n",
       "144968    2.0  \n",
       "269661    4.0  \n",
       "338063    6.0  "
      ]
     },
     "execution_count": 125,
     "metadata": {},
     "output_type": "execute_result"
    }
   ],
   "source": [
    "# Set seet\n",
    "np.random.seed(42)\n",
    "test_set, train_set = split_test_train(df, 0.2)\n",
    "test_set.head()"
   ]
  },
  {
   "cell_type": "markdown",
   "metadata": {},
   "source": [
    "## Looking for correlations"
   ]
  },
  {
   "cell_type": "code",
   "execution_count": 126,
   "metadata": {},
   "outputs": [
    {
     "data": {
      "text/html": [
       "<div>\n",
       "<style scoped>\n",
       "    .dataframe tbody tr th:only-of-type {\n",
       "        vertical-align: middle;\n",
       "    }\n",
       "\n",
       "    .dataframe tbody tr th {\n",
       "        vertical-align: top;\n",
       "    }\n",
       "\n",
       "    .dataframe thead th {\n",
       "        text-align: right;\n",
       "    }\n",
       "</style>\n",
       "<table border=\"1\" class=\"dataframe\">\n",
       "  <thead>\n",
       "    <tr style=\"text-align: right;\">\n",
       "      <th></th>\n",
       "      <th>AREA_ALBERS_SQKM</th>\n",
       "      <th>Dwelling</th>\n",
       "      <th>Person</th>\n",
       "      <th>State</th>\n",
       "    </tr>\n",
       "  </thead>\n",
       "  <tbody>\n",
       "    <tr>\n",
       "      <th>AREA_ALBERS_SQKM</th>\n",
       "      <td>1.000000</td>\n",
       "      <td>-0.007929</td>\n",
       "      <td>-0.004413</td>\n",
       "      <td>0.029330</td>\n",
       "    </tr>\n",
       "    <tr>\n",
       "      <th>Dwelling</th>\n",
       "      <td>-0.007929</td>\n",
       "      <td>1.000000</td>\n",
       "      <td>0.862356</td>\n",
       "      <td>-0.054033</td>\n",
       "    </tr>\n",
       "    <tr>\n",
       "      <th>Person</th>\n",
       "      <td>-0.004413</td>\n",
       "      <td>0.862356</td>\n",
       "      <td>1.000000</td>\n",
       "      <td>-0.065057</td>\n",
       "    </tr>\n",
       "    <tr>\n",
       "      <th>State</th>\n",
       "      <td>0.029330</td>\n",
       "      <td>-0.054033</td>\n",
       "      <td>-0.065057</td>\n",
       "      <td>1.000000</td>\n",
       "    </tr>\n",
       "  </tbody>\n",
       "</table>\n",
       "</div>"
      ],
      "text/plain": [
       "                  AREA_ALBERS_SQKM  Dwelling    Person     State\n",
       "AREA_ALBERS_SQKM          1.000000 -0.007929 -0.004413  0.029330\n",
       "Dwelling                 -0.007929  1.000000  0.862356 -0.054033\n",
       "Person                   -0.004413  0.862356  1.000000 -0.065057\n",
       "State                     0.029330 -0.054033 -0.065057  1.000000"
      ]
     },
     "execution_count": 126,
     "metadata": {},
     "output_type": "execute_result"
    }
   ],
   "source": [
    "df.corr()"
   ]
  }
 ],
 "metadata": {
  "kernelspec": {
   "display_name": "Python [conda env:.conda-naive_bayes]",
   "language": "python",
   "name": "conda-env-.conda-naive_bayes-py"
  },
  "language_info": {
   "codemirror_mode": {
    "name": "ipython",
    "version": 3
   },
   "file_extension": ".py",
   "mimetype": "text/x-python",
   "name": "python",
   "nbconvert_exporter": "python",
   "pygments_lexer": "ipython3",
   "version": "3.7.7"
  }
 },
 "nbformat": 4,
 "nbformat_minor": 4
}
