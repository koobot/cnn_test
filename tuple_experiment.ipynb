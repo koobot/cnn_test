{
 "cells": [
  {
   "cell_type": "markdown",
   "metadata": {},
   "source": [
    "# Playing with Tuples"
   ]
  },
  {
   "cell_type": "code",
   "execution_count": 24,
   "metadata": {},
   "outputs": [
    {
     "name": "stdout",
     "output_type": "stream",
     "text": [
      "tuple1 level 0 length: 2\n",
      "length at level 1: 2\n",
      "length at level 1: 2\n",
      "length at level 2: 3\n",
      "length at level 2: 3\n",
      "length at level 2: 4\n",
      "length at level 2: 3\n",
      "3 3\n",
      "4 3\n"
     ]
    }
   ],
   "source": [
    "# Test tuples\n",
    "# Lengths need to be the same for the tuple to work\n",
    "# e.g. this works\n",
    "tuple1 = ([[1,2,3],\n",
    "           [4,5,6]],\n",
    "          [[7,8,9,0],\n",
    "           [5,5,5]])\n",
    "\n",
    "print(\"tuple1 level 0 length:\", len(tuple1))\n",
    "print(\"length at level 1:\", len(tuple1[0]))\n",
    "print(\"length at level 1:\", len(tuple1[1]))\n",
    "print(\"length at level 2:\", len(tuple1[0][0]))\n",
    "print(\"length at level 2:\", len(tuple1[0][1]))\n",
    "print(\"length at level 2:\", len(tuple1[1][0]))\n",
    "print(\"length at level 2:\", len(tuple1[1][1]))\n",
    "\n",
    "# The for statment only prints the lengths of the arrays at the second level\n",
    "for i, j in tuple1:\n",
    "    print(len(i), len(j))"
   ]
  },
  {
   "cell_type": "code",
   "execution_count": 30,
   "metadata": {},
   "outputs": [
    {
     "name": "stdout",
     "output_type": "stream",
     "text": [
      "tuple2 length at 0: 2\n",
      "length at level 1: 2\n",
      "length at level 1: 4\n",
      "length at level 2: 3\n",
      "length at level 2: 3\n",
      "3 3\n"
     ]
    },
    {
     "ename": "ValueError",
     "evalue": "too many values to unpack (expected 2)",
     "output_type": "error",
     "traceback": [
      "\u001b[1;31m---------------------------------------------------------------------------\u001b[0m",
      "\u001b[1;31mValueError\u001b[0m                                Traceback (most recent call last)",
      "\u001b[1;32m<ipython-input-30-831c5d2d7812>\u001b[0m in \u001b[0;36m<module>\u001b[1;34m\u001b[0m\n\u001b[0;32m     10\u001b[0m \u001b[0mprint\u001b[0m\u001b[1;33m(\u001b[0m\u001b[1;34m\"length at level 2:\"\u001b[0m\u001b[1;33m,\u001b[0m \u001b[0mlen\u001b[0m\u001b[1;33m(\u001b[0m\u001b[0mtuple2\u001b[0m\u001b[1;33m[\u001b[0m\u001b[1;36m0\u001b[0m\u001b[1;33m]\u001b[0m\u001b[1;33m[\u001b[0m\u001b[1;36m1\u001b[0m\u001b[1;33m]\u001b[0m\u001b[1;33m)\u001b[0m\u001b[1;33m)\u001b[0m\u001b[1;33m\u001b[0m\u001b[1;33m\u001b[0m\u001b[0m\n\u001b[0;32m     11\u001b[0m \u001b[1;33m\u001b[0m\u001b[0m\n\u001b[1;32m---> 12\u001b[1;33m \u001b[1;32mfor\u001b[0m \u001b[0mi\u001b[0m\u001b[1;33m,\u001b[0m \u001b[0mj\u001b[0m \u001b[1;32min\u001b[0m \u001b[0mtuple2\u001b[0m\u001b[1;33m:\u001b[0m\u001b[1;33m\u001b[0m\u001b[1;33m\u001b[0m\u001b[0m\n\u001b[0m\u001b[0;32m     13\u001b[0m     \u001b[0mprint\u001b[0m\u001b[1;33m(\u001b[0m\u001b[0mlen\u001b[0m\u001b[1;33m(\u001b[0m\u001b[0mi\u001b[0m\u001b[1;33m)\u001b[0m\u001b[1;33m,\u001b[0m \u001b[0mlen\u001b[0m\u001b[1;33m(\u001b[0m\u001b[0mj\u001b[0m\u001b[1;33m)\u001b[0m\u001b[1;33m)\u001b[0m\u001b[1;33m\u001b[0m\u001b[1;33m\u001b[0m\u001b[0m\n",
      "\u001b[1;31mValueError\u001b[0m: too many values to unpack (expected 2)"
     ]
    }
   ],
   "source": [
    "# The for statment doesn't work because the length at level 1 are different.\n",
    "tuple2 = ([[1,2,3],\n",
    "           [4,5,6]],\n",
    "          [7,8,9,0])\n",
    "\n",
    "print(\"tuple2 length at 0:\", len(tuple2))\n",
    "print(\"length at level 1:\", len(tuple2[0]))\n",
    "print(\"length at level 1:\", len(tuple2[1]))\n",
    "print(\"length at level 2:\", len(tuple2[0][0]))\n",
    "print(\"length at level 2:\", len(tuple2[0][1]))\n",
    "\n",
    "for i, j in tuple2:\n",
    "    print(len(i), len(j))"
   ]
  },
  {
   "cell_type": "markdown",
   "metadata": {},
   "source": [
    "## Can assign tuples in a weird way"
   ]
  },
  {
   "cell_type": "code",
   "execution_count": 9,
   "metadata": {},
   "outputs": [
    {
     "name": "stdout",
     "output_type": "stream",
     "text": [
      "((1, 2, 5), (0, 1))\n",
      "(3, 4)\n"
     ]
    }
   ],
   "source": [
    "tuple3, tuple4 = ((1,2,5), (0,1)), (3,4)\n",
    "\n",
    "print(tuple3)\n",
    "print(tuple4)"
   ]
  },
  {
   "cell_type": "code",
   "execution_count": 12,
   "metadata": {},
   "outputs": [
    {
     "name": "stdout",
     "output_type": "stream",
     "text": [
      "(1, 2, 5)\n",
      "(0, 1)\n",
      "(3, 4)\n"
     ]
    }
   ],
   "source": [
    "# Another interesting way to assign tuples - called 'sequence unpacking'\n",
    "(tuple5, tuple6), tuple7 = ((1,2,5), (0,1)), (3,4)\n",
    "\n",
    "print(tuple5)\n",
    "print(tuple6)\n",
    "print(tuple7)"
   ]
  }
 ],
 "metadata": {
  "kernelspec": {
   "display_name": "Python [conda env:.conda-naive_bayes]",
   "language": "python",
   "name": "conda-env-.conda-naive_bayes-py"
  },
  "language_info": {
   "codemirror_mode": {
    "name": "ipython",
    "version": 3
   },
   "file_extension": ".py",
   "mimetype": "text/x-python",
   "name": "python",
   "nbconvert_exporter": "python",
   "pygments_lexer": "ipython3",
   "version": "3.7.7"
  }
 },
 "nbformat": 4,
 "nbformat_minor": 2
}
