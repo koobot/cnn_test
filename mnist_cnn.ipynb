{
 "cells": [
  {
   "cell_type": "code",
   "execution_count": 3,
   "metadata": {},
   "outputs": [],
   "source": [
    "import tensorflow as tf\n",
    "from tensorflow import keras\n",
    "import numpy as np\n",
    "import matplotlib as plt"
   ]
  },
  {
   "cell_type": "code",
   "execution_count": 5,
   "metadata": {},
   "outputs": [],
   "source": [
    "mnist = tf.keras.datasets.mnist\n",
    "mnist = mnist.load_data()"
   ]
  },
  {
   "cell_type": "markdown",
   "metadata": {},
   "source": [
    "## Get sample sizes"
   ]
  },
  {
   "cell_type": "code",
   "execution_count": 7,
   "metadata": {},
   "outputs": [
    {
     "data": {
      "text/plain": [
       "2"
      ]
     },
     "execution_count": 7,
     "metadata": {},
     "output_type": "execute_result"
    }
   ],
   "source": [
    "# help(mnist)\n",
    "# Length of tuple\n",
    "len(mnist)"
   ]
  },
  {
   "cell_type": "code",
   "execution_count": 96,
   "metadata": {},
   "outputs": [
    {
     "data": {
      "text/plain": [
       "(2, 2)"
      ]
     },
     "execution_count": 96,
     "metadata": {},
     "output_type": "execute_result"
    }
   ],
   "source": [
    "# Get length of each tuple\n",
    "len(mnist[0]), len(mnist[1])"
   ]
  },
  {
   "cell_type": "code",
   "execution_count": 97,
   "metadata": {},
   "outputs": [
    {
     "data": {
      "text/plain": [
       "(60000, 60000, 10000, 10000)"
      ]
     },
     "execution_count": 97,
     "metadata": {},
     "output_type": "execute_result"
    }
   ],
   "source": [
    "# Get length of each of those tuples\n",
    "len(mnist[0][0]), len(mnist[0][1]), len(mnist[1][0]), len(mnist[1][1])"
   ]
  },
  {
   "cell_type": "code",
   "execution_count": 106,
   "metadata": {},
   "outputs": [
    {
     "name": "stdout",
     "output_type": "stream",
     "text": [
      "60000 60000\n",
      "10000 10000\n"
     ]
    }
   ],
   "source": [
    "# Actually gets level 2 lengths (but level 1 needs to be same length for this to work)\n",
    "for i, j in mnist:\n",
    "    print(len(i), len(j))"
   ]
  },
  {
   "cell_type": "code",
   "execution_count": 154,
   "metadata": {},
   "outputs": [
    {
     "data": {
      "text/plain": [
       "(60000, 28, 28)"
      ]
     },
     "execution_count": 154,
     "metadata": {},
     "output_type": "execute_result"
    }
   ],
   "source": [
    "# Can see the \"shape\" attribute\n",
    "mnist[0][0].shape"
   ]
  },
  {
   "cell_type": "markdown",
   "metadata": {},
   "source": [
    "## Turn into training set and dataset"
   ]
  },
  {
   "cell_type": "code",
   "execution_count": 29,
   "metadata": {},
   "outputs": [
    {
     "data": {
      "image/png": "[encoded data removed]",
      "text/plain": [
       "<Figure size 432x288 with 2 Axes>"
      ]
     },
     "metadata": {
      "needs_background": "light"
     },
     "output_type": "display_data"
    }
   ],
   "source": [
    "# See the original - the scale of pixels is from 0 to 255:\n",
    "plt.pyplot.figure()\n",
    "plt.pyplot.imshow(mnist[0][0][0])\n",
    "plt.pyplot.colorbar()\n",
    "plt.pyplot.grid(False)\n",
    "plt.pyplot.show()"
   ]
  },
  {
   "cell_type": "code",
   "execution_count": 6,
   "metadata": {},
   "outputs": [],
   "source": [
    "# Divide into training sets\n",
    "(train_data, train_label), (test_data, test_label) = mnist\n",
    "# Then rescale and convert to floating point numbers\n",
    "train_data, test_data = train_data / 255.0, test_data / 255.0"
   ]
  },
  {
   "cell_type": "code",
   "execution_count": 15,
   "metadata": {},
   "outputs": [
    {
     "name": "stdout",
     "output_type": "stream",
     "text": [
      "(60000, 28, 28) 60000 (10000, 28, 28) 10000\n"
     ]
    }
   ],
   "source": [
    "# Again, can see the shape attribute\n",
    "print(train_data.shape,\n",
    "      len(train_label),\n",
    "      test_data.shape,\n",
    "      len(test_label))"
   ]
  },
  {
   "cell_type": "markdown",
   "metadata": {},
   "source": [
    "## View an image from the dataset"
   ]
  },
  {
   "cell_type": "code",
   "execution_count": 48,
   "metadata": {},
   "outputs": [
    {
     "data": {
      "text/plain": [
       "<matplotlib.image.AxesImage at 0x2c65f33ac88>"
      ]
     },
     "execution_count": 48,
     "metadata": {},
     "output_type": "execute_result"
    },
    {
     "data": {
      "image/png": "[encoded data removed]",
      "text/plain": [
       "<Figure size 432x288 with 1 Axes>"
      ]
     },
     "metadata": {
      "needs_background": "light"
     },
     "output_type": "display_data"
    }
   ],
   "source": [
    "image = train_data[4]\n",
    "image = np.array(image, dtype='float')\n",
    "pixels = image.reshape((28, 28)) # reshape is from np\n",
    "plt.pyplot.imshow(pixels, cmap='gray')"
   ]
  },
  {
   "cell_type": "code",
   "execution_count": 49,
   "metadata": {},
   "outputs": [
    {
     "data": {
      "text/plain": [
       "9"
      ]
     },
     "execution_count": 49,
     "metadata": {},
     "output_type": "execute_result"
    }
   ],
   "source": [
    "train_label[4]"
   ]
  },
  {
   "cell_type": "code",
   "execution_count": 23,
   "metadata": {},
   "outputs": [
    {
     "data": {
      "image/png": "[encoded data removed]",
      "text/plain": [
       "<Figure size 432x288 with 2 Axes>"
      ]
     },
     "metadata": {
      "needs_background": "light"
     },
     "output_type": "display_data"
    }
   ],
   "source": [
    "# Alternative code from https://www.tensorflow.org/tutorials/keras/classification\n",
    "# My values ahve already been scaled from 0 to 1\n",
    "plt.pyplot.figure()\n",
    "plt.pyplot.imshow(train_data[4])\n",
    "plt.pyplot.colorbar()\n",
    "plt.pyplot.grid(False)\n",
    "plt.pyplot.show()"
   ]
  },
  {
   "cell_type": "markdown",
   "metadata": {},
   "source": [
    "#### Display first 25 images from training set - thanks https://www.tensorflow.org/tutorials/keras/classification"
   ]
  },
  {
   "cell_type": "code",
   "execution_count": 40,
   "metadata": {},
   "outputs": [
    {
     "data": {
      "image/png": "[encoded data removed]",
      "text/plain": [
       "<Figure size 720x720 with 25 Axes>"
      ]
     },
     "metadata": {},
     "output_type": "display_data"
    }
   ],
   "source": [
    "plt.pyplot.figure(figsize=(10, 10))\n",
    "\n",
    "for i in range(25):\n",
    "    plt.pyplot.subplot(5, 5, i+1)\n",
    "    plt.pyplot.xticks([]) # Remove x-axis ticks\n",
    "    plt.pyplot.yticks([]) # Remove y-axis ticks\n",
    "    plt.pyplot.grid(False)\n",
    "    plt.pyplot.imshow(train_data[i], cmap=plt.cm.binary)\n",
    "    plt.pyplot.xlabel(train_label[i]) # If wanted to map to diff names, see the tutorial\n",
    "    \n",
    "plt.pyplot.show()"
   ]
  },
  {
   "cell_type": "markdown",
   "metadata": {},
   "source": [
    "## Build the model"
   ]
  },
  {
   "cell_type": "code",
   "execution_count": 11,
   "metadata": {},
   "outputs": [],
   "source": [
    "# 3 layers. 2 learning layers\n",
    "# Set up the parameters\n",
    "model_foo = keras.Sequential([\n",
    "    # Turns 2D to 1D - lining up the pixels, no learning\n",
    "    keras.layers.Flatten(input_shape=(28, 28)),\n",
    "    # 128 nodes.\n",
    "    keras.layers.Dense(128, activation='relu'),\n",
    "    # 10 notes, returns a logits array with length 10\n",
    "    keras.layers.Dense(10)\n",
    "])"
   ]
  },
  {
   "cell_type": "code",
   "execution_count": 76,
   "metadata": {},
   "outputs": [
    {
     "name": "stdout",
     "output_type": "stream",
     "text": [
      "Help on function compile in tensorflow.keras.Sequential:\n",
      "\n",
      "tensorflow.keras.Sequential.compile = compile(self, optimizer='rmsprop', loss=None, metrics=None, loss_weights=None, sample_weight_mode=None, weighted_metrics=None, target_tensors=None, distribute=None, **kwargs)\n",
      "    Configures the model for training.\n",
      "    \n",
      "    Arguments:\n",
      "        optimizer: String (name of optimizer) or optimizer instance.\n",
      "            See `tf.keras.optimizers`.\n",
      "        loss: String (name of objective function), objective function or\n",
      "            `tf.keras.losses.Loss` instance. See `tf.keras.losses`. An objective\n",
      "            function is any callable with the signature\n",
      "            `scalar_loss = fn(y_true, y_pred)`. If the model has multiple\n",
      "            outputs, you can use a different loss on each output by passing a\n",
      "            dictionary or a list of losses. The loss value that will be\n",
      "            minimized by the model will then be the sum of all individual\n",
      "            losses.\n",
      "        metrics: List of metrics to be evaluated by the model during training\n",
      "            and testing. Typically you will use `metrics=['accuracy']`.\n",
      "            To specify different metrics for different outputs of a\n",
      "            multi-output model, you could also pass a dictionary, such as\n",
      "            `metrics={'output_a': 'accuracy', 'output_b': ['accuracy', 'mse']}`.\n",
      "            You can also pass a list (len = len(outputs)) of lists of metrics\n",
      "            such as `metrics=[['accuracy'], ['accuracy', 'mse']]` or\n",
      "            `metrics=['accuracy', ['accuracy', 'mse']]`.\n",
      "        loss_weights: Optional list or dictionary specifying scalar\n",
      "            coefficients (Python floats) to weight the loss contributions\n",
      "            of different model outputs.\n",
      "            The loss value that will be minimized by the model\n",
      "            will then be the *weighted sum* of all individual losses,\n",
      "            weighted by the `loss_weights` coefficients.\n",
      "            If a list, it is expected to have a 1:1 mapping\n",
      "            to the model's outputs. If a tensor, it is expected to map\n",
      "            output names (strings) to scalar coefficients.\n",
      "        sample_weight_mode: If you need to do timestep-wise\n",
      "            sample weighting (2D weights), set this to `\"temporal\"`.\n",
      "            `None` defaults to sample-wise weights (1D).\n",
      "            If the model has multiple outputs, you can use a different\n",
      "            `sample_weight_mode` on each output by passing a\n",
      "            dictionary or a list of modes.\n",
      "        weighted_metrics: List of metrics to be evaluated and weighted\n",
      "            by sample_weight or class_weight during training and testing.\n",
      "        target_tensors: By default, Keras will create placeholders for the\n",
      "            model's target, which will be fed with the target data during\n",
      "            training. If instead you would like to use your own\n",
      "            target tensors (in turn, Keras will not expect external\n",
      "            Numpy data for these targets at training time), you\n",
      "            can specify them via the `target_tensors` argument. It can be\n",
      "            a single tensor (for a single-output model), a list of tensors,\n",
      "            or a dict mapping output names to target tensors.\n",
      "        distribute: NOT SUPPORTED IN TF 2.0, please create and compile the\n",
      "            model under distribution strategy scope instead of passing it to\n",
      "            compile.\n",
      "        **kwargs: Any additional arguments.\n",
      "    \n",
      "    Raises:\n",
      "        ValueError: In case of invalid arguments for\n",
      "            `optimizer`, `loss`, `metrics` or `sample_weight_mode`.\n",
      "\n"
     ]
    }
   ],
   "source": [
    "help('tensorflow.keras.Sequential.compile')\n",
    "#help('tensorflow.keras.optimizers')\n",
    "#help('tensorflow.keras.Sequential.evaluate')"
   ]
  },
  {
   "cell_type": "code",
   "execution_count": 12,
   "metadata": {},
   "outputs": [],
   "source": [
    "# Compile the model - after setting up the parameters\n",
    "model_foo.compile(\n",
    "    # This is how the model is updated based on the data it sees and its loss func\n",
    "    optimizer='adam',\n",
    "    # Want to minimise loss\n",
    "    loss=tf.keras.losses.SparseCategoricalCrossentropy(from_logits=True),\n",
    "    # The fraction of images correctly classified\n",
    "    metrics=['accuracy'])"
   ]
  },
  {
   "cell_type": "code",
   "execution_count": 13,
   "metadata": {},
   "outputs": [
    {
     "name": "stdout",
     "output_type": "stream",
     "text": [
      "Train on 60000 samples\n",
      "Epoch 1/10\n",
      "60000/60000 [==============================] - 2s 34us/sample - loss: 0.2700 - accuracy: 0.9240\n",
      "Epoch 2/10\n",
      "60000/60000 [==============================] - 2s 30us/sample - loss: 0.1194 - accuracy: 0.9650\n",
      "Epoch 3/10\n",
      "60000/60000 [==============================] - 2s 29us/sample - loss: 0.0803 - accuracy: 0.9759\n",
      "Epoch 4/10\n",
      "60000/60000 [==============================] - 2s 30us/sample - loss: 0.0604 - accuracy: 0.9811\n",
      "Epoch 5/10\n",
      "60000/60000 [==============================] - 2s 30us/sample - loss: 0.0460 - accuracy: 0.9859\n",
      "Epoch 6/10\n",
      "60000/60000 [==============================] - 2s 29us/sample - loss: 0.0358 - accuracy: 0.9892\n",
      "Epoch 7/10\n",
      "60000/60000 [==============================] - 2s 28us/sample - loss: 0.0285 - accuracy: 0.9915\n",
      "Epoch 8/10\n",
      "60000/60000 [==============================] - 2s 29us/sample - loss: 0.0244 - accuracy: 0.9926\n",
      "Epoch 9/10\n",
      "60000/60000 [==============================] - 2s 29us/sample - loss: 0.0198 - accuracy: 0.9937\n",
      "Epoch 10/10\n",
      "60000/60000 [==============================] - 2s 30us/sample - loss: 0.0157 - accuracy: 0.9952\n"
     ]
    },
    {
     "data": {
      "text/plain": [
       "<tensorflow.python.keras.callbacks.History at 0x297ff5450c8>"
      ]
     },
     "execution_count": 13,
     "metadata": {},
     "output_type": "execute_result"
    }
   ],
   "source": [
    "# TRAINING TIME\n",
    "model_foo.fit(train_data, train_label, epochs=10)"
   ]
  },
  {
   "cell_type": "code",
   "execution_count": 68,
   "metadata": {},
   "outputs": [
    {
     "name": "stdout",
     "output_type": "stream",
     "text": [
      "10000/10000 - 0s - loss: 0.0969 - accuracy: 0.9752\n",
      "\n",
      "Test accuracy: 0.9752\n"
     ]
    }
   ],
   "source": [
    "# Evaluating accuracy\n",
    "test_loss, test_acc = model_foo.evaluate(test_data, test_label, verbose=2)\n",
    "print('\\nTest accuracy:', test_acc)"
   ]
  },
  {
   "cell_type": "markdown",
   "metadata": {},
   "source": [
    "#### Testing variables and compilation"
   ]
  },
  {
   "cell_type": "code",
   "execution_count": 94,
   "metadata": {},
   "outputs": [
    {
     "name": "stdout",
     "output_type": "stream",
     "text": [
      "\n",
      " <tensorflow.python.keras.engine.sequential.Sequential object at 0x000001B6FE3E1108> \n",
      "\n",
      "10000/10000 - 0s - loss: 2.3483 - accuracy: 0.1024\n",
      "\n",
      "Test accuracy: 0.1024 \n",
      "\n",
      "Train on 60000 samples\n",
      "Epoch 1/3\n",
      "60000/60000 [==============================] - 2s 34us/sample - loss: 0.2608 - accuracy: 0.9247\n",
      "Epoch 2/3\n",
      "60000/60000 [==============================] - 2s 30us/sample - loss: 0.1173 - accuracy: 0.9656\n",
      "Epoch 3/3\n",
      "60000/60000 [==============================] - 2s 30us/sample - loss: 0.0814 - accuracy: 0.9749\n",
      "\n",
      " <tensorflow.python.keras.engine.sequential.Sequential object at 0x000001B6FE3E1108>\n",
      "\n",
      " {'loss': [0.26075240675310296, 0.11731347733388345, 0.0813978069367508], 'accuracy': [0.92466664, 0.96555, 0.97491664]} \n",
      "\n",
      "10000/10000 - 0s - loss: 0.0822 - accuracy: 0.9751\n",
      "\n",
      "Test accuracy: 0.9751\n"
     ]
    }
   ],
   "source": [
    "## Testing something\n",
    "m_test = keras.Sequential([\n",
    "    keras.layers.Flatten(input_shape=(28, 28)),\n",
    "    keras.layers.Dense(128, activation='relu'),\n",
    "    keras.layers.Dense(10)\n",
    "])\n",
    "\n",
    "m_test.compile(\n",
    "    optimizer='adam',\n",
    "    loss=tf.keras.losses.SparseCategoricalCrossentropy(from_logits=True),\n",
    "    metrics=['accuracy'])\n",
    "\n",
    "# See object\n",
    "print('\\n', m_test, '\\n') # Still sequential\n",
    "\n",
    "# So running evaluate before fitting/training the model\n",
    "m_loss, m_acc = m_test.evaluate(test_data, test_label, verbose=2)\n",
    "print('\\nTest accuracy:', m_acc, '\\n')\n",
    "\n",
    "## Then try run the model\n",
    "m_new = m_test.fit(train_data, train_label, epochs=3) # If I assign to variable..\n",
    "print('\\n', m_test)\n",
    "print('\\n', m_new.history, '\\n') # Then can use to show loss and accuracy\n",
    "\n",
    "## Then run the evaluate agin\n",
    "m_loss, m_acc = m_test.evaluate(test_data, test_label, verbose=2)\n",
    "print('\\nTest accuracy:', m_acc)"
   ]
  },
  {
   "cell_type": "markdown",
   "metadata": {},
   "source": [
    "So the after setting parameters and compiling the model - but before training - if I run it on the test data, it works, but the accuracy is shoddy.\n",
    "\n",
    "After I train the model, and run it on the test data, then the results are much better.\n",
    "\n",
    "I don't need to assign the model to a variable when I train it. But if I do, then I can use the history to show loss and accuracy for each epoch.\n",
    "\n",
    "Since the .fit function returns a history object, it's actually modifying the original model. So if I run the .evaluate, I do it on the original model, not on the new history object."
   ]
  },
  {
   "cell_type": "markdown",
   "metadata": {},
   "source": [
    "### Making predictions"
   ]
  },
  {
   "cell_type": "code",
   "execution_count": 14,
   "metadata": {},
   "outputs": [
    {
     "name": "stdout",
     "output_type": "stream",
     "text": [
      "<tensorflow.python.keras.engine.sequential.Sequential object at 0x00000297FF850988>\n"
     ]
    }
   ],
   "source": [
    "# Create is probability model\n",
    "# The model has linear output - logits.\n",
    "probability_model = keras.Sequential([\n",
    "    model_foo,\n",
    "    # Add softmax layer to convert logits to probabilities\n",
    "    keras.layers.Softmax()\n",
    "])\n",
    "\n",
    "print(probability_model)"
   ]
  },
  {
   "cell_type": "code",
   "execution_count": 24,
   "metadata": {},
   "outputs": [
    {
     "name": "stdout",
     "output_type": "stream",
     "text": [
      "[6.6206646e-10 1.0235692e-11 6.4882306e-07 5.3433757e-03 6.7827151e-13\n",
      " 1.3386972e-09 1.0619602e-16 9.9465585e-01 3.6969052e-08 1.3168736e-07]\n",
      "7\n",
      "7\n"
     ]
    }
   ],
   "source": [
    "predictions = probability_model.predict(test_data)\n",
    "\n",
    "print(predictions[0])\n",
    "# Get index of max\n",
    "print(np.argmax(predictions[0]))\n",
    "print(test_label[0])"
   ]
  },
  {
   "cell_type": "code",
   "execution_count": 18,
   "metadata": {},
   "outputs": [],
   "source": [
    "# Graph this - making the functions\n",
    "# For each image\n",
    "def plot_image(i, predictions_array, true_label, img):\n",
    "    #predictions_array, true_label, img = predictions_array, true_label[i], img[i]\n",
    "    predictions_array = predictions_array\n",
    "    true_label = true_label[i]\n",
    "    img = img[i]\n",
    "    \n",
    "    plt.pyplot.grid(False)\n",
    "    plt.pyplot.xticks([])\n",
    "    plt.pyplot.yticks([])\n",
    "    \n",
    "    plt.pyplot.imshow(img, cmap=plt.pyplot.cm.binary)\n",
    "    \n",
    "    predicted_label = np.argmax(predictions_array)\n",
    "    if predicted_label == true_label:\n",
    "        color = 'blue'\n",
    "    else:\n",
    "        color = 'red'\n",
    "    \n",
    "    # Add pic caption\n",
    "    plt.pyplot.xlabel(\"{} {:2.0f}% (True: {})\".format(predicted_label,\n",
    "                                                     100*np.max(predictions_array),\n",
    "                                                     true_label),\n",
    "                      color = color)\n",
    "\n",
    "# Plot value array - the graph\n",
    "def plot_value_array(i, predictions_array, true_label):\n",
    "    predictions_array = predictions_array\n",
    "    true_label = true_label[i]\n",
    "    predicted_label = np.argmax(predictions_array)\n",
    "    \n",
    "    plt.pyplot.grid(False)\n",
    "    plt.pyplot.xticks(range(10))\n",
    "    plt.pyplot.yticks([])\n",
    "    thisplot = plt.pyplot.bar(range(10), predictions_array, color = \"#777777\")\n",
    "    plt.pyplot.ylim([0, 1])\n",
    "    \n",
    "    \n",
    "    thisplot[predicted_label].set_color('red')\n",
    "    thisplot[true_label].set_color('blue')"
   ]
  },
  {
   "cell_type": "code",
   "execution_count": 25,
   "metadata": {},
   "outputs": [
    {
     "data": {
      "image/png": "[encoded data removed]",
      "text/plain": [
       "<Figure size 432x216 with 2 Axes>"
      ]
     },
     "metadata": {
      "needs_background": "light"
     },
     "output_type": "display_data"
    }
   ],
   "source": [
    "i = 0\n",
    "plt.pyplot.figure(figsize=(6, 3)) # Otherwise the two plots are unequally sized\n",
    "# First pic\n",
    "plt.pyplot.subplot(1, 2, 1)\n",
    "plot_image(i, predictions[i], test_label, test_data)\n",
    "\n",
    "# Graph\n",
    "plt.pyplot.subplot(1, 2, 2)\n",
    "plot_value_array(i, predictions[i], test_label)\n",
    "plt.pyplot.show()"
   ]
  },
  {
   "cell_type": "code",
   "execution_count": 115,
   "metadata": {},
   "outputs": [
    {
     "data": {
      "text/plain": [
       "(array([1.0643873e-18, 1.2411586e-15, 4.3256810e-14, 1.2366892e-09,\n",
       "        1.6662598e-16, 1.5782226e-14, 8.4818426e-23, 1.0000000e+00,\n",
       "        1.9930333e-14, 3.4869829e-11], dtype=float32),\n",
       " 7)"
      ]
     },
     "execution_count": 115,
     "metadata": {},
     "output_type": "execute_result"
    }
   ],
   "source": [
    "predictions[0], test_label[0]"
   ]
  },
  {
   "cell_type": "code",
   "execution_count": 130,
   "metadata": {},
   "outputs": [
    {
     "data": {
      "image/png": "[encoded data removed]",
      "text/plain": [
       "<Figure size 864x1440 with 60 Axes>"
      ]
     },
     "metadata": {
      "needs_background": "light"
     },
     "output_type": "display_data"
    }
   ],
   "source": [
    "# Plot the first X test images, their predicted labels, and the true labels\n",
    "# Blue = correct prediction\n",
    "# Red = incorrect prediction\n",
    "plot_rows = 10\n",
    "plot_cols = 3\n",
    "num_images = plot_rows*plot_cols\n",
    "\n",
    "plt.pyplot.figure(figsize=(2*2*plot_cols, 2*plot_rows))\n",
    "\n",
    "for i in range(num_images):\n",
    "    plt.pyplot.subplot(plot_rows, 2*plot_cols, 2*i+1)\n",
    "    plot_image(i, predictions[i], test_label, test_data)\n",
    "    plt.pyplot.subplot(plot_rows, 2*plot_cols, 2*i+2)\n",
    "    plot_value_array(i, predictions[i], test_label)\n",
    "    \n",
    "#plt.pyplot.tight_layout()\n"
   ]
  },
  {
   "cell_type": "markdown",
   "metadata": {},
   "source": [
    "## Applying prediction to one unit"
   ]
  },
  {
   "cell_type": "code",
   "execution_count": 9,
   "metadata": {},
   "outputs": [
    {
     "name": "stdout",
     "output_type": "stream",
     "text": [
      "(28, 28)\n",
      "(1, 28, 28)\n"
     ]
    }
   ],
   "source": [
    "# Grabbing an image from test dataset\n",
    "single_n = test_data[3]\n",
    "\n",
    "print(single_n.shape)\n",
    "\n",
    "# Adding it to a batch (or else tf.keras doesn't like it)\n",
    "single_n = (np.expand_dims(single_n, 0))\n",
    "\n",
    "print(single_n.shape)"
   ]
  },
  {
   "cell_type": "code",
   "execution_count": 16,
   "metadata": {},
   "outputs": [
    {
     "name": "stdout",
     "output_type": "stream",
     "text": [
      "[[9.9960691e-01 1.6820492e-09 3.3145343e-04 9.4857687e-06 2.5054511e-10\n",
      "  5.2366953e-08 1.2729309e-06 6.4864244e-06 1.6839833e-07 4.4221026e-05]]\n"
     ]
    }
   ],
   "source": [
    "# Predict correct label for the image\n",
    "predictions_single = probability_model.predict(single_n)\n",
    "\n",
    "print(predictions_single)"
   ]
  },
  {
   "cell_type": "code",
   "execution_count": 29,
   "metadata": {},
   "outputs": [
    {
     "data": {
      "image/png": "[encoded data removed]",
      "text/plain": [
       "<Figure size 432x288 with 1 Axes>"
      ]
     },
     "metadata": {
      "needs_background": "light"
     },
     "output_type": "display_data"
    }
   ],
   "source": [
    "# Plot this\n",
    "plot_value_array(1, predictions_single[0], test_label)"
   ]
  },
  {
   "cell_type": "code",
   "execution_count": 32,
   "metadata": {},
   "outputs": [
    {
     "data": {
      "text/plain": [
       "0"
      ]
     },
     "execution_count": 32,
     "metadata": {},
     "output_type": "execute_result"
    }
   ],
   "source": [
    "# Grab the preditions for the single batch\n",
    "np.argmax(predictions_single[0])"
   ]
  },
  {
   "cell_type": "code",
   "execution_count": 38,
   "metadata": {},
   "outputs": [
    {
     "data": {
      "text/plain": [
       "<matplotlib.image.AxesImage at 0x29782851908>"
      ]
     },
     "execution_count": 38,
     "metadata": {},
     "output_type": "execute_result"
    },
    {
     "data": {
      "image/png": "[encoded data removed]",
      "text/plain": [
       "<Figure size 432x288 with 1 Axes>"
      ]
     },
     "metadata": {
      "needs_background": "light"
     },
     "output_type": "display_data"
    }
   ],
   "source": [
    "# Can double check the image to be sure\n",
    "plt.pyplot.imshow(single_n[0])"
   ]
  },
  {
   "cell_type": "code",
   "execution_count": 126,
   "metadata": {},
   "outputs": [
    {
     "name": "stdout",
     "output_type": "stream",
     "text": [
      "Help on function subplot in matplotlib.pyplot:\n",
      "\n",
      "matplotlib.pyplot.subplot = subplot(*args, **kwargs)\n",
      "    Add a subplot to the current figure.\n",
      "    \n",
      "    Wrapper of `.Figure.add_subplot` with a difference in behavior\n",
      "    explained in the notes section.\n",
      "    \n",
      "    Call signatures::\n",
      "    \n",
      "       subplot(nrows, ncols, index, **kwargs)\n",
      "       subplot(pos, **kwargs)\n",
      "       subplot(ax)\n",
      "    \n",
      "    Parameters\n",
      "    ----------\n",
      "    *args\n",
      "        Either a 3-digit integer or three separate integers\n",
      "        describing the position of the subplot. If the three\n",
      "        integers are *nrows*, *ncols*, and *index* in order, the\n",
      "        subplot will take the *index* position on a grid with *nrows*\n",
      "        rows and *ncols* columns. *index* starts at 1 in the upper left\n",
      "        corner and increases to the right.\n",
      "    \n",
      "        *pos* is a three digit integer, where the first digit is the\n",
      "        number of rows, the second the number of columns, and the third\n",
      "        the index of the subplot. i.e. fig.add_subplot(235) is the same as\n",
      "        fig.add_subplot(2, 3, 5). Note that all integers must be less than\n",
      "        10 for this form to work.\n",
      "    \n",
      "    projection : {None, 'aitoff', 'hammer', 'lambert', 'mollweide', 'polar', 'rectilinear', str}, optional\n",
      "        The projection type of the subplot (`~.axes.Axes`). *str* is the name\n",
      "        of a custom projection, see `~matplotlib.projections`. The default\n",
      "        None results in a 'rectilinear' projection.\n",
      "    \n",
      "    polar : boolean, optional\n",
      "        If True, equivalent to projection='polar'.\n",
      "    \n",
      "    sharex, sharey : `~.axes.Axes`, optional\n",
      "        Share the x or y `~matplotlib.axis` with sharex and/or sharey. The\n",
      "        axis will have the same limits, ticks, and scale as the axis of the\n",
      "        shared axes.\n",
      "    \n",
      "    label : str\n",
      "        A label for the returned axes.\n",
      "    \n",
      "    Other Parameters\n",
      "    ----------------\n",
      "    **kwargs\n",
      "        This method also takes the keyword arguments for\n",
      "        the returned axes base class. The keyword arguments for the\n",
      "        rectilinear base class `~.axes.Axes` can be found in\n",
      "        the following table but there might also be other keyword\n",
      "        arguments if another projection is used.\n",
      "          adjustable: {'box', 'datalim'}\n",
      "      agg_filter: a filter function, which takes a (m, n, 3) float array and a dpi value, and returns a (m, n, 3) array\n",
      "      alpha: float\n",
      "      anchor: 2-tuple of floats or {'C', 'SW', 'S', 'SE', ...}\n",
      "      animated: bool\n",
      "      aspect: {'auto', 'equal'} or num\n",
      "      autoscale_on: bool\n",
      "      autoscalex_on: bool\n",
      "      autoscaley_on: bool\n",
      "      axes_locator: Callable[[Axes, Renderer], Bbox]\n",
      "      axisbelow: bool or 'line'\n",
      "      clip_box: `.Bbox`\n",
      "      clip_on: bool\n",
      "      clip_path: [(`~matplotlib.path.Path`, `.Transform`) | `.Patch` | None]\n",
      "      contains: callable\n",
      "      facecolor: color\n",
      "      fc: color\n",
      "      figure: `.Figure`\n",
      "      frame_on: bool\n",
      "      gid: str\n",
      "      in_layout: bool\n",
      "      label: object\n",
      "      navigate: bool\n",
      "      navigate_mode: unknown\n",
      "      path_effects: `.AbstractPathEffect`\n",
      "      picker: None or bool or float or callable\n",
      "      position: [left, bottom, width, height] or `~matplotlib.transforms.Bbox`\n",
      "      rasterization_zorder: float or None\n",
      "      rasterized: bool or None\n",
      "      sketch_params: (scale: float, length: float, randomness: float)\n",
      "      snap: bool or None\n",
      "      title: str\n",
      "      transform: `.Transform`\n",
      "      url: str\n",
      "      visible: bool\n",
      "      xbound: unknown\n",
      "      xlabel: str\n",
      "      xlim: (left: float, right: float)\n",
      "      xmargin: float greater than -0.5\n",
      "      xscale: {\"linear\", \"log\", \"symlog\", \"logit\", ...}\n",
      "      xticklabels: List[str]\n",
      "      xticks: list\n",
      "      ybound: unknown\n",
      "      ylabel: str\n",
      "      ylim: (bottom: float, top: float)\n",
      "      ymargin: float greater than -0.5\n",
      "      yscale: {\"linear\", \"log\", \"symlog\", \"logit\", ...}\n",
      "      yticklabels: List[str]\n",
      "      yticks: list\n",
      "      zorder: float\n",
      "    \n",
      "    Returns\n",
      "    -------\n",
      "    axes : an `.axes.SubplotBase` subclass of `~.axes.Axes` (or a subclass     of `~.axes.Axes`)\n",
      "    \n",
      "        The axes of the subplot. The returned axes base class depends on\n",
      "        the projection used. It is `~.axes.Axes` if rectilinear projection\n",
      "        are used and `.projections.polar.PolarAxes` if polar projection\n",
      "        are used. The returned axes is then a subplot subclass of the\n",
      "        base class.\n",
      "    \n",
      "    Notes\n",
      "    -----\n",
      "    Creating a subplot will delete any pre-existing subplot that overlaps\n",
      "    with it beyond sharing a boundary::\n",
      "    \n",
      "        import matplotlib.pyplot as plt\n",
      "        # plot a line, implicitly creating a subplot(111)\n",
      "        plt.plot([1,2,3])\n",
      "        # now create a subplot which represents the top plot of a grid\n",
      "        # with 2 rows and 1 column. Since this subplot will overlap the\n",
      "        # first, the plot (and its axes) previously created, will be removed\n",
      "        plt.subplot(211)\n",
      "    \n",
      "    If you do not want this behavior, use the `.Figure.add_subplot` method\n",
      "    or the `.pyplot.axes` function instead.\n",
      "    \n",
      "    If the figure already has a subplot with key (*args*,\n",
      "    *kwargs*) then it will simply make that subplot current and\n",
      "    return it.  This behavior is deprecated. Meanwhile, if you do\n",
      "    not want this behavior (i.e., you want to force the creation of a\n",
      "    new subplot), you must use a unique set of args and kwargs.  The axes\n",
      "    *label* attribute has been exposed for this purpose: if you want\n",
      "    two subplots that are otherwise identical to be added to the figure,\n",
      "    make sure you give them unique labels.\n",
      "    \n",
      "    In rare circumstances, `.add_subplot` may be called with a single\n",
      "    argument, a subplot axes instance already created in the\n",
      "    present figure but not in the figure's list of axes.\n",
      "    \n",
      "    See Also\n",
      "    --------\n",
      "    .Figure.add_subplot\n",
      "    .pyplot.subplots\n",
      "    .pyplot.axes\n",
      "    .Figure.subplots\n",
      "    \n",
      "    Examples\n",
      "    --------\n",
      "    ::\n",
      "    \n",
      "        plt.subplot(221)\n",
      "    \n",
      "        # equivalent but more general\n",
      "        ax1=plt.subplot(2, 2, 1)\n",
      "    \n",
      "        # add a subplot with no frame\n",
      "        ax2=plt.subplot(222, frameon=False)\n",
      "    \n",
      "        # add a polar subplot\n",
      "        plt.subplot(223, projection='polar')\n",
      "    \n",
      "        # add a red subplot that shares the x-axis with ax1\n",
      "        plt.subplot(224, sharex=ax1, facecolor='red')\n",
      "    \n",
      "        # delete ax2 from the figure\n",
      "        plt.delaxes(ax2)\n",
      "    \n",
      "        # add ax2 to the figure again\n",
      "        plt.subplot(ax2)\n",
      "\n"
     ]
    }
   ],
   "source": [
    "#help(\"tensorflow.Variable\")\n",
    "#help('numpy.reshape')\n",
    "help('matplotlib.pyplot.subplot')\n",
    "#help('numpy.argmax')"
   ]
  },
  {
   "cell_type": "code",
   "execution_count": null,
   "metadata": {},
   "outputs": [],
   "source": []
  }
 ],
 "metadata": {
  "kernelspec": {
   "display_name": "Python [conda env:.conda-naive_bayes]",
   "language": "python",
   "name": "conda-env-.conda-naive_bayes-py"
  },
  "language_info": {
   "codemirror_mode": {
    "name": "ipython",
    "version": 3
   },
   "file_extension": ".py",
   "mimetype": "text/x-python",
   "name": "python",
   "nbconvert_exporter": "python",
   "pygments_lexer": "ipython3",
   "version": "3.7.7"
  }
 },
 "nbformat": 4,
 "nbformat_minor": 4
}
